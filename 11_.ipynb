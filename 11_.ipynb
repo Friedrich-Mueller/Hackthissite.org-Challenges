{
 "cells": [
  {
   "cell_type": "markdown",
   "id": "91e17097-aca4-444d-abc9-44f728c9e98f",
   "metadata": {},
   "source": [
    "# Challenge 11"
   ]
  },
  {
   "cell_type": "markdown",
   "id": "4eefd70e-d804-4458-81f4-a6472d521f33",
   "metadata": {},
   "source": [
    "### Imports"
   ]
  },
  {
   "cell_type": "code",
   "execution_count": null,
   "id": "b8673b9b-0f64-4469-948d-1f5fd250f39a",
   "metadata": {},
   "outputs": [],
   "source": [
    "import requests\n",
    "import os\n",
    "import re\n",
    "from bs4 import BeautifulSoup"
   ]
  },
  {
   "cell_type": "markdown",
   "id": "2e5e986d-106b-403b-a698-0e86359ce38e",
   "metadata": {},
   "source": [
    "### Log in to hackthissite.org"
   ]
  },
  {
   "cell_type": "code",
   "execution_count": null,
   "id": "5d7dae8e-8afb-4ab5-885b-e3488bb5088b",
   "metadata": {
    "scrolled": true
   },
   "outputs": [],
   "source": [
    "username = \"FriedrichMaximilian\"\n",
    "password = os.getenv('HTS_PASSWORD')\n",
    "if not password:\n",
    "    print(\"Password not found in environment variables. Please set 'HTS_PASSWORD'.\")\n",
    "    exit()\n",
    "\n",
    "login_url = \"https://www.hackthissite.org/user/login\"\n",
    "mission_url = \"https://www.hackthissite.org/missions/prog/11/\"\n",
    "submit_url = \"https://www.hackthissite.org/missions/prog/11/index.php\"\n",
    "\n",
    "headers = {\n",
    "    'User-Agent': 'Mozilla/5.0 (Windows NT 10.0; Win64; x64) AppleWebKit/537.36 (KHTML, like Gecko) Chrome/91.0.4472.124 Safari/537.36',\n",
    "    'Referer': login_url,\n",
    "}\n",
    "\n",
    "session = requests.Session()\n",
    "\n",
    "login_page_response = session.get(login_url, headers=headers)\n",
    "\n",
    "if login_page_response.status_code == 200:\n",
    "    print(\"Login page fetched successfully!\")\n",
    "else:\n",
    "    print(f\"Failed to fetch login page with status code: {login_page_response.status_code}\")\n",
    "    exit()\n",
    "\n",
    "login_data = {\n",
    "    'username': username,\n",
    "    'password': password\n",
    "}\n",
    "\n",
    "login_response = session.post(login_url, data=login_data, headers=headers)\n",
    "\n",
    "if \"hello\" in login_response.text.lower():\n",
    "    print(\"Login successful!\")\n",
    "else:\n",
    "    print(\"Login failed.\")"
   ]
  },
  {
   "cell_type": "markdown",
   "id": "5d25101d-a7b0-4521-8f05-bd031cf79f12",
   "metadata": {},
   "source": [
    "### Fetch the string and number"
   ]
  },
  {
   "cell_type": "code",
   "execution_count": null,
   "id": "999f6553-aa3b-453e-b51c-b32509aa6952",
   "metadata": {},
   "outputs": [],
   "source": [
    "mission_response = session.get(mission_url, headers=headers)\n",
    "if mission_response.status_code == 200:\n",
    "    print(\"Mission page fetched successfully!\")\n",
    "else:\n",
    "    print(f\"Failed to fetch mission page with status code: {mission_response.status_code}\")\n",
    "    exit()\n",
    "\n",
    "# Extract the generated string using regex\n",
    "generated_string_pattern = r\"Generated String:\\s*([^\\s<]+)\"\n",
    "match_string = re.search(generated_string_pattern, mission_response.text)\n",
    "\n",
    "if match_string:\n",
    "    string = match_string.group(1)\n",
    "    print(f\"Found generated string: {string}\")\n",
    "else:\n",
    "    print(\"Generated string not found in the page content.\")\n",
    "    \n",
    "# Extract the shift number using regex - allowing for negative values\n",
    "shift_pattern = r\"Shift:\\s*(-?\\d+)\"\n",
    "match_shift = re.search(shift_pattern, mission_response.text)\n",
    "\n",
    "if match_shift:\n",
    "    shift_number = int(match_shift.group(1))  # Convert to integer\n",
    "    print(f\"Found shift number: {shift_number}\")\n",
    "else:\n",
    "    print(\"Shift number not found in the page content.\")"
   ]
  },
  {
   "cell_type": "markdown",
   "id": "a5b5d4fb-057b-4eec-a59a-44474b3e8978",
   "metadata": {},
   "source": [
    "### Shift the string"
   ]
  },
  {
   "cell_type": "code",
   "execution_count": null,
   "id": "cb8c03e6-9064-460c-a626-de032e176ad9",
   "metadata": {},
   "outputs": [],
   "source": [
    "ans = \"\"\n",
    "aux = \"\"\n",
    "for i in string:\n",
    "\tif i.isdigit():\n",
    "\t\taux += i\n",
    "\telse:\n",
    "\t\tans += chr(int(aux)-shift_number)\n",
    "\t\taux = \"\"\n",
    "print(ans)"
   ]
  },
  {
   "cell_type": "markdown",
   "id": "c75ea7e1-c165-4cb7-acde-f752b049fd61",
   "metadata": {},
   "source": [
    "### Submit solution"
   ]
  },
  {
   "cell_type": "code",
   "execution_count": null,
   "id": "11dbdcac-b9b6-49aa-a00b-58e6442d47f9",
   "metadata": {
    "scrolled": true
   },
   "outputs": [],
   "source": [
    "# Submit the solution\n",
    "payload = {\n",
    "    \"solution\": ans, \n",
    "    \"submitbutton\": \"submit\"  \n",
    "}\n",
    "    \n",
    "headers = {\n",
    "    \"User-Agent\": \"Mozilla/5.0 (Windows NT 10.0; Win64; x64) AppleWebKit/537.36 (KHTML, like Gecko) Chrome/114.0.0.0 Safari/537.36\",\n",
    "    \"Referer\": \"https://www.hackthissite.org/missions/prog/11/\"\n",
    "}\n",
    "\n",
    "response = session.post(mission_url, data=payload, headers=headers)\n",
    "if \"congratz\" in response.text.lower():\n",
    "    print(\"Submission successful!\")\n",
    "elif \"correct\" in response.text.lower():\n",
    "    print(\"Submission successful!\")\n",
    "elif \"incorrect\" in response.text.lower():\n",
    "    print(\"Submission incorrect. Try again.\")\n",
    "else:\n",
    "    print(\"Could not determine submission result.\")\n",
    "# Print response for debugging\n",
    "# print(response.text)"
   ]
  }
 ],
 "metadata": {
  "kernelspec": {
   "display_name": "Python 3 (ipykernel)",
   "language": "python",
   "name": "python3"
  },
  "language_info": {
   "codemirror_mode": {
    "name": "ipython",
    "version": 3
   },
   "file_extension": ".py",
   "mimetype": "text/x-python",
   "name": "python",
   "nbconvert_exporter": "python",
   "pygments_lexer": "ipython3",
   "version": "3.13.2"
  }
 },
 "nbformat": 4,
 "nbformat_minor": 5
}
