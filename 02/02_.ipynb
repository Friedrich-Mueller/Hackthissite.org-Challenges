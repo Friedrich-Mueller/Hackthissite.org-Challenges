{
 "cells": [
  {
   "cell_type": "markdown",
   "id": "cf1e9eca-7a5f-42b6-bcec-ab3836bcdcfc",
   "metadata": {},
   "source": [
    "# Challenge 2"
   ]
  },
  {
   "cell_type": "markdown",
   "id": "77e96ccd-75d0-4bce-a78a-0282e5fea4f3",
   "metadata": {},
   "source": [
    "### Imports"
   ]
  },
  {
   "cell_type": "code",
   "execution_count": 1,
   "id": "cfbdf46d-2b08-40b9-aaee-5708f063189d",
   "metadata": {},
   "outputs": [],
   "source": [
    "import requests\n",
    "import os\n",
    "from bs4 import BeautifulSoup\n",
    "\n",
    "import numpy as np\n",
    "\n",
    "from PIL import Image\n",
    "from io import BytesIO\n",
    "import matplotlib.pyplot as plt"
   ]
  },
  {
   "cell_type": "markdown",
   "id": "228ae7b2-8fcb-4ac2-8ba6-6a63de64fae3",
   "metadata": {},
   "source": [
    "### Log in to hackthissite.org"
   ]
  },
  {
   "cell_type": "code",
   "execution_count": 2,
   "id": "b58b1d9a-d604-4d0a-bc5b-1d75643b30f8",
   "metadata": {},
   "outputs": [
    {
     "name": "stdout",
     "output_type": "stream",
     "text": [
      "Login page fetched successfully!\n",
      "Login successful!\n"
     ]
    }
   ],
   "source": [
    "username = \"FriedrichMaximilian\"\n",
    "password = os.getenv('HTS_PASSWORD')\n",
    "if not password:\n",
    "    print(\"Password not found in environment variables. Please set 'HTS_PASSWORD'.\")\n",
    "    exit()\n",
    "\n",
    "login_url = \"https://www.hackthissite.org/user/login\"\n",
    "mission_url = \"https://www.hackthissite.org/missions/prog/2/\"\n",
    "submit_url = \"https://www.hackthissite.org/missions/prog/2/index.php\"\n",
    "\n",
    "headers = {\n",
    "    'User-Agent': 'Mozilla/5.0 (Windows NT 10.0; Win64; x64) AppleWebKit/537.36 (KHTML, like Gecko) Chrome/91.0.4472.124 Safari/537.36',\n",
    "    'Referer': login_url,\n",
    "}\n",
    "\n",
    "session = requests.Session()\n",
    "\n",
    "login_page_response = session.get(login_url, headers=headers)\n",
    "\n",
    "if login_page_response.status_code == 200:\n",
    "    print(\"Login page fetched successfully!\")\n",
    "else:\n",
    "    print(f\"Failed to fetch login page with status code: {login_page_response.status_code}\")\n",
    "    exit()\n",
    "\n",
    "login_data = {\n",
    "    'username': username,\n",
    "    'password': password\n",
    "}\n",
    "\n",
    "login_response = session.post(login_url, data=login_data, headers=headers)\n",
    "\n",
    "if \"hello\" in login_response.text.lower():\n",
    "    print(\"Login successful!\")\n",
    "else:\n",
    "    print(\"Login failed.\")"
   ]
  },
  {
   "cell_type": "markdown",
   "id": "3612e402-4416-48a9-b04f-abbf6cd0c5ca",
   "metadata": {},
   "source": [
    "### Fetch image"
   ]
  },
  {
   "cell_type": "code",
   "execution_count": 3,
   "id": "65d0b0db-b8d5-4fe6-9fa2-4ebb40cf38dd",
   "metadata": {},
   "outputs": [
    {
     "name": "stdout",
     "output_type": "stream",
     "text": [
      "Mission page fetched successfully!\n"
     ]
    },
    {
     "data": {
      "image/png": "[encoded data removed]",
      "text/plain": [
       "<Figure size 640x480 with 1 Axes>"
      ]
     },
     "metadata": {},
     "output_type": "display_data"
    },
    {
     "name": "stdout",
     "output_type": "stream",
     "text": [
      "[[0 0 0 ... 0 0 0]\n",
      " [0 0 0 ... 0 0 0]\n",
      " [0 0 0 ... 0 0 0]\n",
      " ...\n",
      " [0 0 0 ... 0 0 0]\n",
      " [0 0 0 ... 0 0 0]\n",
      " [0 0 0 ... 0 0 0]]\n"
     ]
    }
   ],
   "source": [
    "mission_response = session.get(mission_url, headers=headers)\n",
    "\n",
    "if mission_response.status_code == 200:\n",
    "    print(\"Mission page fetched successfully!\")\n",
    "else:\n",
    "    print(f\"Failed to fetch mission page with status code: {mission_response.status_code}\")\n",
    "    exit()\n",
    "\n",
    "# Extract image URL (since it's a relative URL, prepend the base URL)\n",
    "image_url = \"https://www.hackthissite.org/missions/prog/2/PNG\"\n",
    "\n",
    "# Download the image\n",
    "image_response = session.get(image_url)\n",
    "\n",
    "if image_response.status_code == 200:\n",
    "\n",
    "    image = Image.open(BytesIO(image_response.content))\n",
    "\n",
    "    plt.imshow(image)\n",
    "    plt.axis('off')  # Hide axes\n",
    "    plt.show()\n",
    "\n",
    "    image_matrix = np.array(image)\n",
    "    print(image_matrix)\n",
    "else:\n",
    "    print(f\"Failed to fetch image with status code: {image_response.status_code}\")"
   ]
  },
  {
   "cell_type": "code",
   "execution_count": 6,
   "id": "bf2814bb-2dc2-4ee5-b4e3-e84027374b57",
   "metadata": {},
   "outputs": [
    {
     "name": "stdout",
     "output_type": "stream",
     "text": [
      "[0 0 0 0 0 0 0 0 0 0 0 0 0 0 0 0 0 0 0 0 0 0 0 0 0 0 0 0 0 0 0 0 0 0 0 0 0\n",
      " 0 0 0 0 0 0 0 0 0 1 0 0 0 0 0 0 0 0 0 0 0 0 0 0 0 0 0 0 0 0 0 0 0 0 0 0 0\n",
      " 0 0 0 0 0 0 0 0 0 0 0 0 0 0 0 0 0 1 0 0 0 0 0 0 0 0]\n",
      "30\n"
     ]
    }
   ],
   "source": [
    "print(image_matrix[0])\n",
    "print(len(image_matrix))"
   ]
  }
 ],
 "metadata": {
  "kernelspec": {
   "display_name": "Python 3 (ipykernel)",
   "language": "python",
   "name": "python3"
  },
  "language_info": {
   "codemirror_mode": {
    "name": "ipython",
    "version": 3
   },
   "file_extension": ".py",
   "mimetype": "text/x-python",
   "name": "python",
   "nbconvert_exporter": "python",
   "pygments_lexer": "ipython3",
   "version": "3.13.2"
  }
 },
 "nbformat": 4,
 "nbformat_minor": 5
}
