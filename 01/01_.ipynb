{
 "cells": [
  {
   "cell_type": "markdown",
   "id": "91e17097-aca4-444d-abc9-44f728c9e98f",
   "metadata": {},
   "source": [
    "# Challenge 1"
   ]
  },
  {
   "cell_type": "markdown",
   "id": "4eefd70e-d804-4458-81f4-a6472d521f33",
   "metadata": {},
   "source": [
    "### Imports"
   ]
  },
  {
   "cell_type": "code",
   "execution_count": 6,
   "id": "b8673b9b-0f64-4469-948d-1f5fd250f39a",
   "metadata": {},
   "outputs": [],
   "source": [
    "import requests\n",
    "import os\n",
    "import zipfile"
   ]
  },
  {
   "cell_type": "markdown",
   "id": "2e5e986d-106b-403b-a698-0e86359ce38e",
   "metadata": {},
   "source": [
    "### Log in to hackthissite.com"
   ]
  },
  {
   "cell_type": "code",
   "execution_count": null,
   "id": "5d7dae8e-8afb-4ab5-885b-e3488bb5088b",
   "metadata": {},
   "outputs": [],
   "source": []
  },
  {
   "cell_type": "markdown",
   "id": "5d25101d-a7b0-4521-8f05-bd031cf79f12",
   "metadata": {},
   "source": [
    "### List of scrambled words"
   ]
  },
  {
   "cell_type": "code",
   "execution_count": 7,
   "id": "999f6553-aa3b-453e-b51c-b32509aa6952",
   "metadata": {},
   "outputs": [
    {
     "data": {
      "text/plain": [
       "<Task pending name='Task-2' coro=<fetch_scrambled_words() running at C:\\Users\\fjun2024\\AppData\\Local\\Temp\\ipykernel_5376\\2958366337.py:7>>"
      ]
     },
     "execution_count": 7,
     "metadata": {},
     "output_type": "execute_result"
    }
   ],
   "source": [
    "import nest_asyncio\n",
    "from requests_html import AsyncHTMLSession\n",
    "import asyncio\n",
    "\n",
    "nest_asyncio.apply()  # Allows running nested async functions in Jupyter\n",
    "\n",
    "async def fetch_scrambled_words():\n",
    "    url = \"https://www.hackthissite.org/missions/prog/1/\"\n",
    "    session = AsyncHTMLSession()\n",
    "    response = await session.get(url)\n",
    "    await response.html.arender()  # Render JavaScript\n",
    "\n",
    "    scrambled_words = [li.text.strip() for li in response.html.find(\"td li\")]\n",
    "\n",
    "    if scrambled_words:\n",
    "        print(\"Scrambled words found:\")\n",
    "        for word in scrambled_words:\n",
    "            print(word)\n",
    "    else:\n",
    "        print(\"No scrambled words found.\")\n",
    "\n",
    "    await session.close()\n",
    "\n",
    "# Run the async function in the existing event loop\n",
    "asyncio.create_task(fetch_scrambled_words())\n"
   ]
  },
  {
   "cell_type": "markdown",
   "id": "a5b5d4fb-057b-4eec-a59a-44474b3e8978",
   "metadata": {},
   "source": [
    "### Download wordlist"
   ]
  },
  {
   "cell_type": "code",
   "execution_count": 3,
   "id": "cb8c03e6-9064-460c-a626-de032e176ad9",
   "metadata": {},
   "outputs": [
    {
     "name": "stdout",
     "output_type": "stream",
     "text": [
      "File 'wordlist.zip' already exists. Skipping download.\n"
     ]
    }
   ],
   "source": [
    "url = \"https://www.hackthissite.org/missions/prog/1/wordlist.zip\"\n",
    "file_name = \"wordlist.zip\"\n",
    "\n",
    "# Check if the file already exists\n",
    "if not os.path.exists(file_name):\n",
    "    # Send GET request\n",
    "    response = requests.get(url, stream=True)\n",
    "    \n",
    "    # Check if the request was successful\n",
    "    if response.status_code == 200:\n",
    "        with open(file_name, \"wb\") as file:\n",
    "            for chunk in response.iter_content(chunk_size=1024):\n",
    "                file.write(chunk)\n",
    "        print(f\"File downloaded successfully as {file_name}\")\n",
    "    else:\n",
    "        print(f\"Failed to download file. HTTP Status Code: {response.status_code}\")\n",
    "else:\n",
    "    print(f\"File '{file_name}' already exists. Skipping download.\")\n"
   ]
  },
  {
   "cell_type": "markdown",
   "id": "f8bdd15c-8a14-417a-8142-d8758b8fa9f9",
   "metadata": {},
   "source": [
    "### Unzip file"
   ]
  },
  {
   "cell_type": "code",
   "execution_count": 4,
   "id": "002b8665-f1d0-4dd3-9488-142cfc1e0da7",
   "metadata": {},
   "outputs": [
    {
     "name": "stdout",
     "output_type": "stream",
     "text": [
      "Folder 'wordlist' already exists. Skipping extraction.\n"
     ]
    }
   ],
   "source": [
    "# Extract the ZIP file if not already extracted\n",
    "extract_folder = \"wordlist\"\n",
    "if not os.path.exists(extract_folder):\n",
    "    with zipfile.ZipFile(file_name, 'r') as zip_ref:\n",
    "        zip_ref.extractall(extract_folder)\n",
    "        print(f\"File extracted to {extract_folder}\")\n",
    "else:\n",
    "    print(f\"Folder '{extract_folder}' already exists. Skipping extraction.\")\n",
    "\n"
   ]
  },
  {
   "cell_type": "markdown",
   "id": "5b5fbe01-622f-41da-8f34-760cf1bb2feb",
   "metadata": {},
   "source": [
    "### Read the words"
   ]
  },
  {
   "cell_type": "code",
   "execution_count": 5,
   "id": "958cbbed-b5c5-431c-88ec-89b75fb314a9",
   "metadata": {
    "scrolled": true
   },
   "outputs": [
    {
     "name": "stdout",
     "output_type": "stream",
     "text": [
      "['html:)', '121212', '131313', '123123', '654321', '8675309', '666666', '696969', '888888', '1234567', '21122112', '12345678', 'asdfjkl;', 'hal9000', 'bond007', 'ncc1701d', 'ncc1701e', 'ncc1701', 'thx1138', 'a12345', 'abcd1234', '1234qwer', '1a2b3c', '1q2w3e', 'test123', '1p2o3i', 'puppy123', 'kitten12', 'qwerty12', 'john316', 'apollo13', 'ne1469', 'amanda1', 'mazda1', 'angela1', 'alpha1', 'sarah1', 'nirvana1', 'bubba1', 'scuba1', 'rambo1', 'charlie1', 'david1', 'digital1', 'dragon1', 'honda1', 'shadow1', 'eagle1', 'freak1', 'james1', '1sanjose', 'apple1', 'master1', 'happy1', 'martin1', 'jason1', 'larry1', 'number1', 'robert1', 'soccer1', 'direct1', 'chester1', 'welcome1', 'french1', 'hockey1', 'chevy1', 'scooter1', 'chris1', 'lucky1', 'teddy1', 'phoenix1', 'hello1', 'julie1', 'kevin1', 'pookie1', 'viper1', 'jenny1', 'jesus1', 'kelly1', 'money1', 'mouse1', 'sting1', 'justin1', 'molly1', 'sunny1', 'front242', 'jordan23', '2welcome', 'h2opolo', 'bird33', '4runner', 'babylon5', 'star69', 'ib6ub9', 'america7', 'seven7', 'number9', 'porsche9', 'barbara', 'database', 'banana', 'bananas', 'canada', 'jamaica', 'amanda', 'valhalla', 'samantha', 'yamaha', 'natasha', 'alaska', 'tamara', 'zapata', 'avatar', 'basketba', 'baseball', 'basebal', 'bastard', 'nebraska', 'banane', 'abigail', 'sabrina', 'batman', 'cocacola', 'cascade', 'cardinal', 'claudia', 'packard', 'cannonda', 'apache', 'america', 'canela', 'camera', 'caesar', 'warcraft', 'catalog', 'chapman', 'zachary', 'alicia', 'patricia', 'carolina', 'nicarao', 'captain', 'nautica', 'pascal', 'rascal', 'camaro', 'nascar', 'deadhead', 'adidas', 'alexande', 'airhead', 'alexandr', 'andrea', 'gandalf', 'grandma', 'happyday', 'indiana', 'paladin', 'miranda', 'adrian', 'dakota', 'dallas', 'mayday', 'pandora', 'sandra', 'xanadu', 'angela', 'margaret', 'stargate', 'savage', 'gateway', 'athena', 'ariane', 'pearljam', 'maryjane', 'oatmeal', 'pamela', 'pantera', 'vanessa', 'graymail', 'iguana', 'jaguar', 'galaxy', 'gasman', 'hannah', 'hawaii', 'mariah', 'jonathan', 'marshal', 'martha', 'nathan', 'italia', 'aikman', 'saskia', 'vanilla', 'mailman', 'animal', 'animals', 'impala', 'attila', 'marina', 'mariposa', 'nirvana', 'arizona', 'joanna', 'january', 'lakota', 'avalon', 'alyssa', 'yomama', 'montana', 'mantra', 'tazman', 'tarzan', 'starwars', 'bobcat', 'badboy', 'barbie', 'babies', 'basketb', 'rabbit', 'bamboo', 'rebecca', 'abcdef', 'abcdefg', 'blackie', 'excalibu', 'campbell', 'tacobell', 'bigmac', 'jsbach', 'columbia', 'buddha', 'badger', 'butthead', 'bradley', 'brenda', 'bernard', 'ladybug', 'diablo', 'blizzard', 'brandi', 'bandit', 'brandon', 'brandy', 'beagle', 'isabelle', 'elizabet', 'beanie', 'beatles', 'webmaste', 'beaner', 'beaver', 'fireball', 'beautifu', 'gabriell', 'gabriel', 'poohbear', 'bertha', 'benjamin', 'bailey', 'beavis', 'basket', 'blaster', 'albert', 'blazer', 'barney', 'strawber', 'braves', 'buffalo', 'football', 'softball', 'footbal', 'foobar', 'bigman', 'gambit', 'global', 'malibu', 'library', 'brasil', 'brazil', 'rainbow', 'obiwan', 'kombat', 'snowball', 'marlboro', 'snowbal', 'playboy', 'absolut', 'wombat', 'canced', 'icecream', 'chance', 'celica', 'cracker', 'cancer', 'access', 'pacific', 'chicago', 'chocolat', 'arctic', 'clancy', 'cactus', 'dickhead', 'maddock', 'medical', 'claude', 'sundance', 'dancer', 'crawford', 'richard', 'wildcat', 'picard', 'colorado', 'conrad', 'corrado', 'changeme', 'chelsea', 'peaches', 'research', 'teachers', 'teacher', 'creative', 'cleaner', 'france', 'challeng', 'michael', 'charlie', 'archie', 'hacker', 'chanel', 'rachel', 'charles', 'patches', 'jackie', 'janice', 'jessica', 'maverick', 'metallic', 'caroline', 'special', 'claire', 'iceman', 'maurice', 'maveric', 'veronica', 'carrie', 'cassie', 'active', 'slacker', 'packer', 'packers', 'marcel', 'coltrane', 'carole', 'lacrosse', 'scarlet', 'scarlett', 'castle', 'carmen', 'pacers', 'racerx', 'stacey', 'catfish', 'californ', 'francois', 'francis', 'falcon', 'graphic', 'logical', 'garlic', 'camping', 'racing', 'cougars', 'cougar', 'chiquita', 'christia', 'nicholas', 'champion', 'cynthia', 'charity', 'charlott', 'champs', 'caitlin', 'victoria', 'tricia', 'patrick', 'calvin', 'monica', 'macintos', 'action', 'picasso', 'jackson', 'malcolm', 'coolman', 'classroo', 'carlos', 'crystal', 'compaq', 'tomcat', 'marcus', 'cannon', 'corona', 'cyrano', 'topcat', 'tractor', 'laddie', 'undead', 'edward', 'maddog', 'diamond', 'donald', 'woodland', 'greenday', 'danielle', 'dreamer', 'reader', 'garfield', 'alfred', 'reading', 'gerald', 'garden', 'shithead', 'daniel', 'ireland', 'raider', 'raiders', 'daytek', 'leonard', 'dreams', 'anderson', 'darren', 'sanders', 'andrew', 'retard', 'tuesday', 'asdfghjk', 'asdfgh', 'dragonfl', 'florida', 'friday', 'asdfjkl', 'digital', 'godzilla', 'douglas', 'dragon', 'harold', 'rhonda', 'zaphod', 'howard', 'shadows', 'shadow', 'thursday', 'indian', 'island', 'lindsay', 'lizard', 'madison', 'pyramid', 'darwin', 'tardis', 'wizard', 'majordom', 'jordan', 'dollars', 'orlando', 'portland', 'ronald', 'rodman', 'raymond', 'monday', 'sunday', 'password', 'passwd', 'jeanette', 'sweetpea', 'jaeger', 'general', 'eagles', 'heather', 'kathleen', 'hawkeye', 'elephant', 'sheena', 'theresa', 'theatre', 'whatever', 'whateve', 'amelie', 'melanie', 'elaine', 'valerie', 'jeanne', 'yankees', 'walleye', 'please', 'seattle', 'weasel', 'awesome', 'netware', 'teresa', 'grateful', 'frankie', 'fireman', 'ferrari', 'farmer', 'safety', 'maggie', 'georgia', 'aggies', 'imagine', 'galileo', 'goalie', 'enigma', 'mirage', 'wrangler', 'angels', 'german', 'orange', 'oranges', 'ranger', 'garnet', 'voyager', 'garrett', 'target', 'health', 'katherin', 'sheila', 'stephani', 'sapphire', 'asshole', 'harley', 'stealth', 'whales', 'ashley', 'hammer', 'herman', 'theman', 'hamster', 'matthew', 'panther', 'hearts', 'harvey', 'jasmine', 'mikael', 'mailer', 'melissa', 'valentin', 'lorraine', 'alpine', 'aliens', 'tequila', 'reality', 'laurie', 'alexis', 'sammie', 'maxime', 'marine', 'vampire', 'insane', 'painter', 'petunia', 'praise', 'pirate', 'sierra', 'asterix', 'xavier', 'jasper', 'lakers', 'walker', 'kramer', 'market', 'tanker', 'wanker', 'parker', 'startrek', 'skater', 'maxwell', 'stella', 'montreal', 'temporal', 'sampler', 'marley', 'samuel', 'napoleon', 'espanol', 'snapple', 'planet', 'lauren', 'stanley', 'apples', 'players', 'player', 'raquel', 'slayer', 'travel', 'walter', 'lestat', 'superman', 'masters', 'master', 'tanner', 'suzanne', 'newpass', 'peanut', 'warren', 'tiffany', 'wolfgang', 'flamingo', 'farming', 'fugazi', 'franklin', 'family', 'fountain', 'wolfman', 'smashing', 'virginia', 'sailing', 'training', 'stingray', 'giants', 'guitar', 'magnum', 'morgan', 'mustang', 'gymnast', 'august', 'mishka', 'harrison', 'spanish', 'shanti', 'joshua', 'kathryn', 'shalom', 'hansolo', 'phantom', 'thomas', 'shannon', 'hanson', 'anthony', 'sharon', 'hatton', 'author', 'arthur', 'nikita', 'williams', 'william', 'raistlin', 'olivia', 'julian', 'jasmin', 'allison', 'marilyn', 'alison', 'polaris', 'sailor', 'quality', 'sylvia', 'ironman', 'mountain', 'tinman', 'marino', 'martin', 'marvin', 'matrix', 'nissan', 'passion', 'station', 'tristan', 'austin', 'utopia', 'warriors', 'warrior', 'artist', 'travis', 'krystal', 'spanky', 'sparky', 'apollo', 'salmon', 'psalms', 'larson', 'royals', 'taylor', 'norman', 'snowman', 'sampson', 'samson', 'mozart', 'watson', 'saturn', 'tattoo', 'toyota', 'sparrow', 'parrot', 'passwor', 'qwaszx', 'stuart', 'taurus', 'bubbles', 'debbie', 'bluebird', 'bigbird', 'pebbles', 'robbie', 'hobbit', 'jimbob', 'booboo', 'december', 'quebec', 'robotech', 'republic', 'october', 'public', 'zxcvbnm', 'broncos', 'cowboys', 'scooby', 'cowboy', 'firebird', 'bigred', 'bridges', 'dogbert', 'thunderb', 'birdie', 'blondie', 'dilbert', 'doobie', 'blonde', 'rosebud', 'bigdog', 'bulldog', 'sunbird', 'remember', 'septembe', 'homebrew', 'herbert', 'biteme', 'bernie', 'reebok', 'rebels', 'byteme', 'brewster', 'webster', 'boogie', 'junebug', 'goblue', 'goober', 'shelby', 'theboss', 'kimberly', 'zombie', 'timber', 'bonnie', 'benoit', 'business', 'nesbitt', 'bootsie', 'bluesky', 'brooke', 'volleyb', 'bullet', 'blowme', 'trouble', 'butler', 'boomer', 'benson', 'booster', 'trebor', 'buster', 'bigfoot', 'blowfish', 'bright', 'bowling', 'biology', 'gibson', 'bullshit', 'robinhoo', 'bookit', 'wilbur', 'bonjour', 'symbol', 'boston', 'browns', 'buttons', 'button', 'brutus', 'cccccc', 'electric', 'science', 'chicken', 'cricket', 'celtics', 'cyclone', 'connect', 'concept', 'soccer', 'success', 'church', 'chucky', 'scotch', 'cloclo', 'cuddles', 'depeche', 'mercedes', 'frederic', 'deutsch', 'duckie', 'wicked', 'cinder', 'director', 'orchid', 'dominic', 'doctor', 'cheese', 'coffee', 'fletcher', 'gretchen', 'college', 'michelle', 'michele', 'speech', 'chester', 'celine', 'eclipse', 'pierce', 'service', 'colleen', 'telecom', 'welcome', 'spencer', 'center', 'except', 'secret', 'chiefs', 'fletch', 'fuckme', 'fucker', 'michell', 'mitchell', 'michel', 'chipper', 'hockey', 'cheryl', 'techno', 'porsche', 'hector', 'cherry', 'justice', 'pickle', 'mickey', 'snicker', 'snickers', 'cookie', 'cookies', 'nicole', 'police', 'clipper', 'mexico', 'connie', 'vincent', 'prince', 'princess', 'picture', 'pisces', 'security', 'cruise', 'rocket', 'puckett', 'tucker', 'clover', 'computer', 'compute', 'mercury', 'newcourt', 'courtney', 'cooper', 'scooter', 'coyote', 'copper', 'fuckoff', 'scruffy', 'fiction', 'fuckyou', 'gocougs', 'christin', 'christop', 'chrissy', 'christ', 'christy', 'school', 'psycho', 'politics', 'knicks', 'lincoln', 'unicorn', 'scorpion', 'corwin', 'sonics', 'scorpio', 'victor', 'victory', 'curtis', 'trucks', 'control', 'compton', 'moocow', 'cosmos', 'popcorn', 'xcountry', 'country', 'scotty', 'deedee', 'dundee', 'freddy', 'dodger', 'dodgers', 'defense', 'freedom', 'fender', 'legend', 'deliver', 'denise', 'kennedy', 'ledzep', 'denver', 'speedo', 'speedy', 'dexter', 'friend', 'friends', 'doggie', 'digger', 'goldie', 'redwing', 'design', 'doogie', 'dougie', 'golden', 'hendrix', 'thunder', 'inside', 'kinder', 'redskin', 'dookie', 'lindsey', 'dennis', 'trident', 'sendit', 'sidney', 'detroit', 'spider', 'strider', 'donkey', 'reynolds', 'elwood', 'redrum', 'wonder', 'notused', 'student', 'sydney', 'windsurf', 'oxford', 'midnight', 'dwight', 'hotdog', 'indigo', 'kingdom', 'snoopdog', 'gordon', 'phurivdli', 'judith', 'dolphin', 'dolphins', 'hotrod', 'dorothy', 'midori', 'skidoo', 'domino', 'nimrod', 'wisdom', 'windows', 'dustin', 'stupid', 'drizzt', 'london', 'studly', 'voodoo', 'peewee', 'reefer', 'eugene', 'sweetie', 'kleenex', 'skeeter', 'penelope', 'steelers', 'steele', 'eeyore', 'weezer', 'jeffrey', 'jennifer', 'jenifer', 'ferret', 'reggie', 'george', 'wheeling', 'genesis', 'sergei', 'energy', 'hershey', 'kenneth', 'shelley', 'helpme', 'wheels', 'promethe', 'hermes', 'stephen', 'einstein', 'jessie', 'nellie', 'leslie', 'letmein', 'zeppelin', 'etoile', 'nemesis', 'internet', 'pierre', 'jewels', 'jeremy', 'jensen', 'jester', 'kelsey', 'loveme', 'people', 'explorer', 'wrestle', 'letter', 'wesley', 'velvet', 'western', 'newuser', 'steven', 'popeye', 'europe', 'pepper', 'express', 'tester', 'stever', 'testtest', 'sweets', 'sweety', 'tweety', 'griffey', 'golfer', 'fisher', 'spitfire', 'flipper', 'xfiles', 'fozzie', 'sunflowe', 'flowers', 'flower', 'flyers', 'forest', 'surfer', 'future', 'ginger', 'tigger', 'google', 'nugget', 'gregory', 'theking', 'gopher', 'gemini', 'gilles', 'piglet', 'penguin', 'guinness', 'singer', 'testing', 'genius', 'tigers', 'gretzky', 'gunner', 'nguyen', 'grover', 'shirley', 'memphis', 'sunshine', 'phoenix', 'whitney', 'zenith', 'hootie', 'sophie', 'joseph', 'huskers', 'shelly', 'mother', 'thumper', 'hornets', 'hornet', 'hunter', 'shooter', 'topher', 'horses', 'zephyr', 'sherry', 'millie', 'willie', 'olivier', 'minnie', 'winnie', 'trixie', 'jupiter', 'killme', 'killer', 'mookie', 'kermit', 'kristen', 'tinker', 'kittens', 'kitten', 'pookie', 'skipper', 'miller', 'soleil', 'elliot', 'little', 'merlin', 'simple', 'smiles', 'smiley', 'online', 'wolverin', 'liverpoo', 'iloveyou', 'oliver', 'louise', 'violet', 'silver', 'sylvie', 'mortimer', 'swimmer', 'emmitt', 'monique', 'pentium', 'mittens', 'niners', 'intern', 'winner', 'tennis', 'senior', 'sniper', 'sunrise', 'winter', 'tootsie', 'puppies', 'ripper', 'sprite', 'monkey', 'smokey', 'network', 'newyork', 'volley', 'yellow', 'russell', 'lennon', 'nelson', 'looney', 'loveyou', 'protel', 'wolves', 'purple', 'russel', 'turtle', 'memory', 'summer', 'monster', 'vermont', 'trumpet', 'system', 'newton', 'yvonne', 'runner', 'preston', 'entropy', 'reznor', 'sunset', 'rooster', 'property', 'porter', 'export', 'trevor', 'qwerty', 'fluffy', 'muffin', 'snuffy', 'golfing', 'froggy', 'kingfish', 'fishing', 'flight', 'gofish', 'goforit', 'informix', 'pinkfloy', 'foxtrot', 'frosty', 'zhongguo', 'knights', 'knight', 'nothing', 'hunting', 'wright', 'shotgun', 'lionking', 'skiing', 'vikings', 'viking', 'swimming', 'running', 'roping', 'spring', 'grumpy', 'topgun', 'groovy', 'phillip', 'philip', 'whisky', 'timothy', 'smiths', 'sunshin', 'horizon', 'history', 'johnson', 'johnny', 'murphy', 'houston', 'python', 'shorty', 'kristin', 'kristi', 'million', 'mission', 'tintin', 'vision', 'spirit', 'junior', 'justin', 'pumpkin', 'punkin', 'skinny', 'stinky', 'skippy', 'kristy', 'suzuki', 'willow', 'wilson', 'moroni', 'mirror', 'morris', 'stimpy', 'winston', 'poiuyt', 'squirt', 'spunky', 'spooky', 'monopoly', 'molson', 'moomoo', 'stormy', 'toronto', 'snoopy', 'support', 'sports']\n"
     ]
    }
   ],
   "source": [
    "# Open and read the extracted file into a list, line by line\n",
    "word_list = []\n",
    "wordlist_path = os.path.join(extract_folder, \"wordlist.txt\")\n",
    "if os.path.exists(wordlist_path):\n",
    "    with open(wordlist_path, \"r\", encoding=\"utf-8\") as file:\n",
    "        for line in file:\n",
    "            word_list.append(line.strip())\n",
    "            # print(line.strip())  # Process each line as needed\n",
    "else:\n",
    "    print(f\"Extracted wordlist file '{wordlist_path}' not found.\")\n",
    "print(word_list)"
   ]
  },
  {
   "cell_type": "code",
   "execution_count": null,
   "id": "79fb2a6e-5669-4df1-a4d7-2c8fc3805079",
   "metadata": {
    "scrolled": true
   },
   "outputs": [],
   "source": [
    "\n"
   ]
  }
 ],
 "metadata": {
  "kernelspec": {
   "display_name": "Python 3 (ipykernel)",
   "language": "python",
   "name": "python3"
  },
  "language_info": {
   "codemirror_mode": {
    "name": "ipython",
    "version": 3
   },
   "file_extension": ".py",
   "mimetype": "text/x-python",
   "name": "python",
   "nbconvert_exporter": "python",
   "pygments_lexer": "ipython3",
   "version": "3.13.2"
  }
 },
 "nbformat": 4,
 "nbformat_minor": 5
}
