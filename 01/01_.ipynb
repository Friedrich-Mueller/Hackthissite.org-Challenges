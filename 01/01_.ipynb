{
 "cells": [
  {
   "cell_type": "markdown",
   "id": "91e17097-aca4-444d-abc9-44f728c9e98f",
   "metadata": {},
   "source": [
    "# Challenge 1"
   ]
  },
  {
   "cell_type": "markdown",
   "id": "4eefd70e-d804-4458-81f4-a6472d521f33",
   "metadata": {},
   "source": [
    "### Imports"
   ]
  },
  {
   "cell_type": "code",
   "execution_count": null,
   "id": "b8673b9b-0f64-4469-948d-1f5fd250f39a",
   "metadata": {},
   "outputs": [],
   "source": [
    "import requests\n",
    "import os\n",
    "import zipfile\n",
    "from bs4 import BeautifulSoup"
   ]
  },
  {
   "cell_type": "markdown",
   "id": "2e5e986d-106b-403b-a698-0e86359ce38e",
   "metadata": {},
   "source": [
    "### Log in to hackthissite.org"
   ]
  },
  {
   "cell_type": "code",
   "execution_count": null,
   "id": "5d7dae8e-8afb-4ab5-885b-e3488bb5088b",
   "metadata": {
    "scrolled": true
   },
   "outputs": [],
   "source": [
    "username = \"FriedrichMaximilian\"\n",
    "password = os.getenv('HTS_PASSWORD')\n",
    "if not password:\n",
    "    print(\"Password not found in environment variables. Please set 'HTS_PASSWORD'.\")\n",
    "    exit()\n",
    "\n",
    "login_url = \"https://www.hackthissite.org/user/login\"\n",
    "mission_url = \"https://www.hackthissite.org/missions/prog/1/\"\n",
    "submit_url = \"https://www.hackthissite.org/missions/prog/1/index.php\"\n",
    "\n",
    "headers = {\n",
    "    'User-Agent': 'Mozilla/5.0 (Windows NT 10.0; Win64; x64) AppleWebKit/537.36 (KHTML, like Gecko) Chrome/91.0.4472.124 Safari/537.36',\n",
    "    'Referer': login_url,\n",
    "}\n",
    "\n",
    "session = requests.Session()\n",
    "\n",
    "login_page_response = session.get(login_url, headers=headers)\n",
    "\n",
    "if login_page_response.status_code == 200:\n",
    "    print(\"Login page fetched successfully!\")\n",
    "else:\n",
    "    print(f\"Failed to fetch login page with status code: {login_page_response.status_code}\")\n",
    "    exit()\n",
    "\n",
    "login_data = {\n",
    "    'username': username,\n",
    "    'password': password\n",
    "}\n",
    "\n",
    "login_response = session.post(login_url, data=login_data, headers=headers)\n",
    "\n",
    "if \"hello\" in login_response.text.lower():\n",
    "    print(\"Login successful!\")\n",
    "else:\n",
    "    print(\"Login failed.\")"
   ]
  },
  {
   "cell_type": "markdown",
   "id": "5d25101d-a7b0-4521-8f05-bd031cf79f12",
   "metadata": {},
   "source": [
    "### List of scrambled words"
   ]
  },
  {
   "cell_type": "code",
   "execution_count": null,
   "id": "999f6553-aa3b-453e-b51c-b32509aa6952",
   "metadata": {},
   "outputs": [],
   "source": [
    "mission_page = session.get(mission_url)\n",
    "\n",
    "if mission_page.status_code == 200:\n",
    "    soup = BeautifulSoup(mission_page.text, 'html.parser')\n",
    "    scrambled_section = soup.find_all('li')  # Modify this based on actual HTML structure\n",
    "    scrambled_words = [word.text for word in scrambled_section]\n",
    "    print(\"Scrambled Words:\", scrambled_words[-10:])\n",
    "else:\n",
    "    print(\"Failed to fetch the mission page.\")"
   ]
  },
  {
   "cell_type": "markdown",
   "id": "a5b5d4fb-057b-4eec-a59a-44474b3e8978",
   "metadata": {},
   "source": [
    "### Download wordlist"
   ]
  },
  {
   "cell_type": "code",
   "execution_count": null,
   "id": "cb8c03e6-9064-460c-a626-de032e176ad9",
   "metadata": {},
   "outputs": [],
   "source": [
    "url = \"https://www.hackthissite.org/missions/prog/1/wordlist.zip\"\n",
    "file_name = \"wordlist.zip\"\n",
    "\n",
    "if not os.path.exists(file_name):\n",
    "    \n",
    "    response = requests.get(url, stream=True)\n",
    "    \n",
    "    if response.status_code == 200:\n",
    "        with open(file_name, \"wb\") as file:\n",
    "            for chunk in response.iter_content(chunk_size=1024):\n",
    "                file.write(chunk)\n",
    "        print(f\"File downloaded successfully as {file_name}\")\n",
    "    else:\n",
    "        print(f\"Failed to download file. HTTP Status Code: {response.status_code}\")\n",
    "else:\n",
    "    print(f\"File '{file_name}' already exists. Skipping download.\")\n"
   ]
  },
  {
   "cell_type": "markdown",
   "id": "f8bdd15c-8a14-417a-8142-d8758b8fa9f9",
   "metadata": {},
   "source": [
    "### Unzip file"
   ]
  },
  {
   "cell_type": "code",
   "execution_count": null,
   "id": "002b8665-f1d0-4dd3-9488-142cfc1e0da7",
   "metadata": {},
   "outputs": [],
   "source": [
    "extract_folder = \"wordlist\"\n",
    "if not os.path.exists(extract_folder):\n",
    "    with zipfile.ZipFile(file_name, 'r') as zip_ref:\n",
    "        zip_ref.extractall(extract_folder)\n",
    "        print(f\"File extracted to {extract_folder}\")\n",
    "else:\n",
    "    print(f\"Folder '{extract_folder}' already exists. Skipping extraction.\")"
   ]
  },
  {
   "cell_type": "markdown",
   "id": "5b5fbe01-622f-41da-8f34-760cf1bb2feb",
   "metadata": {},
   "source": [
    "### Read the words"
   ]
  },
  {
   "cell_type": "code",
   "execution_count": null,
   "id": "958cbbed-b5c5-431c-88ec-89b75fb314a9",
   "metadata": {
    "scrolled": true
   },
   "outputs": [],
   "source": [
    "# Open and read the extracted file into a list, line by line\n",
    "word_list = []\n",
    "wordlist_path = os.path.join(extract_folder, \"wordlist.txt\")\n",
    "if os.path.exists(wordlist_path):\n",
    "    with open(wordlist_path, \"r\", encoding=\"utf-8\") as file:\n",
    "        for line in file:\n",
    "            word_list.append(line.strip())\n",
    "            # print(line.strip())  # Process each line as needed\n",
    "else:\n",
    "    print(f\"Extracted wordlist file '{wordlist_path}' not found.\")\n",
    "# print(word_list)"
   ]
  },
  {
   "cell_type": "markdown",
   "id": "95691e6d-5271-434e-8918-a701604cbc23",
   "metadata": {
    "scrolled": true
   },
   "source": [
    "### Finally, unscramble the words"
   ]
  },
  {
   "cell_type": "code",
   "execution_count": null,
   "id": "68d4c877-12ca-43eb-88f3-ee5d43bde445",
   "metadata": {},
   "outputs": [],
   "source": [
    "scrambled_words = scrambled_words[-10:]\n",
    "word_list = word_list\n",
    "word_list.sort()\n",
    "print(scrambled_words, \"\\n\")\n",
    "# print(word_list)\n",
    "\n",
    "# restructure the word list according to length of words\n",
    "d_len = {}\n",
    "\n",
    "lengths = []\n",
    "for word in word_list:\n",
    "    if len(word) not in d_len:\n",
    "        d_len[len(word)] = [word]\n",
    "        lengths.append(len(word))\n",
    "    else:\n",
    "        d_len[len(word)].append(word)\n",
    "# print(lengths, \"\\n\")\n",
    "# print(d_len)\n",
    "    \n",
    "\n",
    "ans = []\n",
    "for scrambled in scrambled_words:\n",
    "    l = len(scrambled)\n",
    "    words = d_len[l]\n",
    "    candidates = []\n",
    "    i = 0\n",
    "    candidates = [x for x in words if scrambled[0] in x]\n",
    "    for ch in scrambled:\n",
    "        if i == 0:\n",
    "            i += 1\n",
    "            continue\n",
    "        else:\n",
    "            candidates = [x for x in candidates if ch in x]\n",
    "    if len(candidates) > 1:\n",
    "        for can in candidates:\n",
    "            if sorted(scrambled) == sorted(can):\n",
    "                candidates = [can]\n",
    "                break\n",
    "    # print(candidates)\n",
    "    # print(scrambled)\n",
    "    \n",
    "    ans += candidates\n",
    "print(len(ans), len(scrambled_words))\n",
    "ans = \",\".join(ans)\n",
    "print(type(ans), ans)"
   ]
  },
  {
   "cell_type": "markdown",
   "id": "c75ea7e1-c165-4cb7-acde-f752b049fd61",
   "metadata": {},
   "source": [
    "### Submit solution"
   ]
  },
  {
   "cell_type": "code",
   "execution_count": null,
   "id": "11dbdcac-b9b6-49aa-a00b-58e6442d47f9",
   "metadata": {
    "scrolled": true
   },
   "outputs": [],
   "source": [
    "payload = {\n",
    "    \"solution\": ans, \n",
    "    \"submitbutton\": \"submit\"  \n",
    "}\n",
    "    \n",
    "headers = {\n",
    "    \"User-Agent\": \"Mozilla/5.0 (Windows NT 10.0; Win64; x64) AppleWebKit/537.36 (KHTML, like Gecko) Chrome/114.0.0.0 Safari/537.36\",\n",
    "    \"Referer\": \"https://www.hackthissite.org/missions/prog/1/\"\n",
    "}\n",
    "\n",
    "response = session.post(mission_url, data=payload, headers=headers)\n",
    "\n",
    "if \"correct\" in response.text.lower():\n",
    "    print(\"Submission successful!\")\n",
    "elif \"incorrect\" in response.text.lower():\n",
    "    print(\"Submission incorrect. Try again.\")\n",
    "else:\n",
    "    print(\"Could not determine submission result.\")\n",
    "\n",
    "# Print response for debugging\n",
    "# print(response.text)"
   ]
  }
 ],
 "metadata": {
  "kernelspec": {
   "display_name": "Python 3 (ipykernel)",
   "language": "python",
   "name": "python3"
  },
  "language_info": {
   "codemirror_mode": {
    "name": "ipython",
    "version": 3
   },
   "file_extension": ".py",
   "mimetype": "text/x-python",
   "name": "python",
   "nbconvert_exporter": "python",
   "pygments_lexer": "ipython3",
   "version": "3.13.2"
  }
 },
 "nbformat": 4,
 "nbformat_minor": 5
}
